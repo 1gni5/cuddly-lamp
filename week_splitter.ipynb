{
 "cells": [
  {
   "cell_type": "code",
   "execution_count": 7,
   "metadata": {},
   "outputs": [
    {
     "name": "stdout",
     "output_type": "stream",
     "text": [
      "         uuid           timestamp  latitude  longitude\n",
      "0  uzHUVUEcYt 2015-03-26 18:00:00     4.926     45.780\n",
      "1  iDzWYzS1tF 2015-04-06 17:00:00     4.848     45.763\n",
      "2  GnVEBWXtkp 2015-04-04 21:00:00     6.724     43.491\n",
      "3         DEL 2015-03-05 19:00:00     4.880     45.785\n",
      "4  hMZp6HFzm3 2015-03-28 20:00:00     4.657     46.076\n"
     ]
    }
   ],
   "source": [
    "# Load a given CSV file and split it into weeks\n",
    "import pandas as pd\n",
    "\n",
    "# Load the CSV file\n",
    "df = pd.read_csv('data/anonymous.csv', sep='\\t', names=['uuid', 'timestamp', 'latitude', 'longitude'])\n",
    "\n",
    "# Convert the timestamp column to datetime\n",
    "df['timestamp'] = pd.to_datetime(df['timestamp'])\n",
    "\n",
    "print(df.head())\n",
    "\n",
    "# Create a new column for the week number\n",
    "df['week'] = df['timestamp'].dt.isocalendar().week\n",
    "\n",
    "# Save a CSV file for each week\n",
    "for week in df['week'].unique():\n",
    "    df[df['week'] == week].to_csv('data/weeks/anonymous/week_{}.csv'.format(week), index=False)"
   ]
  }
 ],
 "metadata": {
  "kernelspec": {
   "display_name": "env",
   "language": "python",
   "name": "python3"
  },
  "language_info": {
   "codemirror_mode": {
    "name": "ipython",
    "version": 3
   },
   "file_extension": ".py",
   "mimetype": "text/x-python",
   "name": "python",
   "nbconvert_exporter": "python",
   "pygments_lexer": "ipython3",
   "version": "3.11.6"
  }
 },
 "nbformat": 4,
 "nbformat_minor": 2
}

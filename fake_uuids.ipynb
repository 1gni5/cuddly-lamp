{
 "cells": [
  {
   "cell_type": "code",
   "execution_count": 3,
   "metadata": {},
   "outputs": [],
   "source": [
    "input_filename = 'data/sample.csv'\n",
    "output_filename = 'data/fake_uuids.csv'"
   ]
  },
  {
   "cell_type": "code",
   "execution_count": 4,
   "metadata": {},
   "outputs": [
    {
     "data": {
      "text/html": [
       "<div>\n",
       "<style scoped>\n",
       "    .dataframe tbody tr th:only-of-type {\n",
       "        vertical-align: middle;\n",
       "    }\n",
       "\n",
       "    .dataframe tbody tr th {\n",
       "        vertical-align: top;\n",
       "    }\n",
       "\n",
       "    .dataframe thead th {\n",
       "        text-align: right;\n",
       "    }\n",
       "</style>\n",
       "<table border=\"1\" class=\"dataframe\">\n",
       "  <thead>\n",
       "    <tr style=\"text-align: right;\">\n",
       "      <th></th>\n",
       "      <th>uuid</th>\n",
       "      <th>timestamp</th>\n",
       "      <th>latitude</th>\n",
       "      <th>longitude</th>\n",
       "    </tr>\n",
       "  </thead>\n",
       "  <tbody>\n",
       "    <tr>\n",
       "      <th>0</th>\n",
       "      <td>433ae1b4-8ae1-4766-8da8-167089921c3a</td>\n",
       "      <td>1425575750299</td>\n",
       "      <td>4.873582</td>\n",
       "      <td>45.784783</td>\n",
       "    </tr>\n",
       "    <tr>\n",
       "      <th>1</th>\n",
       "      <td>e840375d-7859-4413-a24d-b1f051caacff</td>\n",
       "      <td>1426439662424</td>\n",
       "      <td>4.866730</td>\n",
       "      <td>45.762363</td>\n",
       "    </tr>\n",
       "    <tr>\n",
       "      <th>2</th>\n",
       "      <td>ad2e4460-748b-44cd-9481-9241491315fa</td>\n",
       "      <td>1425941674308</td>\n",
       "      <td>4.756408</td>\n",
       "      <td>45.995465</td>\n",
       "    </tr>\n",
       "    <tr>\n",
       "      <th>3</th>\n",
       "      <td>ada2e879-092c-48e2-bce8-37d975793730</td>\n",
       "      <td>1428776377217</td>\n",
       "      <td>4.777053</td>\n",
       "      <td>45.832212</td>\n",
       "    </tr>\n",
       "    <tr>\n",
       "      <th>4</th>\n",
       "      <td>775fb893-3831-4723-a19b-b8d1c34ec0df</td>\n",
       "      <td>1425838055292</td>\n",
       "      <td>4.865765</td>\n",
       "      <td>45.780212</td>\n",
       "    </tr>\n",
       "  </tbody>\n",
       "</table>\n",
       "</div>"
      ],
      "text/plain": [
       "                                   uuid      timestamp  latitude  longitude\n",
       "0  433ae1b4-8ae1-4766-8da8-167089921c3a  1425575750299  4.873582  45.784783\n",
       "1  e840375d-7859-4413-a24d-b1f051caacff  1426439662424  4.866730  45.762363\n",
       "2  ad2e4460-748b-44cd-9481-9241491315fa  1425941674308  4.756408  45.995465\n",
       "3  ada2e879-092c-48e2-bce8-37d975793730  1428776377217  4.777053  45.832212\n",
       "4  775fb893-3831-4723-a19b-b8d1c34ec0df  1425838055292  4.865765  45.780212"
      ]
     },
     "execution_count": 4,
     "metadata": {},
     "output_type": "execute_result"
    }
   ],
   "source": [
    "import pandas as pd\n",
    "from uuid import uuid4\n",
    "\n",
    "# Load both datasets\n",
    "df = pd.read_csv(input_filename, sep=';')\n",
    "\n",
    "# For each uuid, add a new column with a fake uuid\n",
    "fake_uuids = {}\n",
    "\n",
    "def generate_fake_uuid(seed):\n",
    "    if seed not in fake_uuids:\n",
    "        fake_uuids[seed] = uuid4()\n",
    "    return fake_uuids[seed]\n",
    "\n",
    "df['uuid'] = df['uuid'].apply(generate_fake_uuid)\n",
    "\n",
    "# Save the new dataset\n",
    "df.to_csv(output_filename, sep=';', index=False)\n",
    "\n",
    "# Print the first 5 rows\n",
    "df.head()\n"
   ]
  }
 ],
 "metadata": {
  "kernelspec": {
   "display_name": "env",
   "language": "python",
   "name": "python3"
  },
  "language_info": {
   "codemirror_mode": {
    "name": "ipython",
    "version": 3
   },
   "file_extension": ".py",
   "mimetype": "text/x-python",
   "name": "python",
   "nbconvert_exporter": "python",
   "pygments_lexer": "ipython3",
   "version": "3.11.6"
  }
 },
 "nbformat": 4,
 "nbformat_minor": 2
}
